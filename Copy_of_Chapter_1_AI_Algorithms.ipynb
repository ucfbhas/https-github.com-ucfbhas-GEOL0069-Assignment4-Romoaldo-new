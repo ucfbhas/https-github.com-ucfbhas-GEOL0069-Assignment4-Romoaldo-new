{
  "cells": [
    {
      "cell_type": "markdown",
      "metadata": {
        "id": "view-in-github",
        "colab_type": "text"
      },
      "source": [
        "<a href=\"https://colab.research.google.com/github/ucfbhas/https-github.com-ucfbhas-GEOL0069-Assignment4-Romoaldo-new/blob/main/Copy_of_Chapter_1_AI_Algorithms.ipynb\" target=\"_parent\"><img src=\"https://colab.research.google.com/assets/colab-badge.svg\" alt=\"Open In Colab\"/></a>"
      ]
    },
    {
      "cell_type": "markdown",
      "metadata": {
        "id": "IMi0zTh9y6WL"
      },
      "source": [
        "# AI/Machine Learning Implementation\n",
        "📘 **Interactive Version**: For a hands-on experience with this chapter's content, access the interactive notebook in [Google Colab](https://drive.google.com/file/d/15IuvDQCdv0cruXEU-dxyf-YbWK89mKQx/view?usp=sharing).\n",
        "\n",
        "In this section, we delve into the practical application of prominent AI and machine learning algorithms using the datasets curated in the preceding chapters. While an exhaustive theoretical comprehension isn't mandatory, a foundational grasp of the underlying principles and confidence in their basic implementation will be advantageous.\n",
        "The main task focus on this chapter will be classification because we are doing surface discrimination . We will come across regression in future chapters."
      ]
    },
    {
      "cell_type": "code",
      "source": [
        "! du -h sample_data"
      ],
      "metadata": {
        "colab": {
          "base_uri": "https://localhost:8080/"
        },
        "id": "XMMkIjCJWUH4",
        "outputId": "5c24d950-cbe8-495d-94e1-17cb411bb521"
      },
      "execution_count": null,
      "outputs": [
        {
          "output_type": "stream",
          "name": "stdout",
          "text": [
            "55M\tsample_data\n"
          ]
        }
      ]
    },
    {
      "cell_type": "code",
      "execution_count": null,
      "metadata": {
        "id": "ik9CudNLpi0p",
        "colab": {
          "base_uri": "https://localhost:8080/"
        },
        "outputId": "09aaf645-a486-4c70-c510-19aa1db607df"
      },
      "outputs": [
        {
          "output_type": "stream",
          "name": "stdout",
          "text": [
            "Mounted at /content/drive\n"
          ]
        }
      ],
      "source": [
        "from google.colab import drive\n",
        "drive.mount('/content/drive')"
      ]
    },
    {
      "cell_type": "markdown",
      "metadata": {
        "id": "L-cnFsCNwF4p"
      },
      "source": [
        "## Loading the data\n",
        "From the previous notebook, you should have your training and testing data ready from this code:"
      ]
    },
    {
      "cell_type": "code",
      "execution_count": null,
      "metadata": {
        "id": "R-OJgjOYqw_2"
      },
      "outputs": [],
      "source": [
        "import numpy as np\n",
        "import cv2\n",
        "import matplotlib.pyplot as plt\n",
        "from sklearn.model_selection import train_test_split"
      ]
    },
    {
      "cell_type": "code",
      "source": [
        "! ls"
      ],
      "metadata": {
        "colab": {
          "base_uri": "https://localhost:8080/"
        },
        "id": "FQ6JKmVhX4wF",
        "outputId": "9d716574-647c-4f1b-e98d-df4fbcd3902c"
      },
      "execution_count": null,
      "outputs": [
        {
          "output_type": "stream",
          "name": "stdout",
          "text": [
            "drive  sample_data\n"
          ]
        }
      ]
    },
    {
      "cell_type": "code",
      "execution_count": null,
      "metadata": {
        "id": "Nd-1V30zyJcB"
      },
      "outputs": [],
      "source": [
        "# Specify your path to files\n",
        "path = '/content/drive/MyDrive/Week_2/Week2_Sea-ice_and_Lead_Classification'\n",
        "directory = '/test and train'\n",
        "datadir = path+directory"
      ]
    },
    {
      "cell_type": "code",
      "execution_count": null,
      "metadata": {
        "id": "zt9iYcqDwLDp"
      },
      "outputs": [],
      "source": [
        "import os\n",
        "import numpy as np\n",
        "save_path='/content/drive/MyDrive/GEOL0069/Week_2/Week2_Sea-ice_and_Lead_Classification'\n",
        "X_train = np.load(os.path.join(save_path,'X_test_balanced.npy'))\n",
        "X_test = np.load(os.path.join(save_path, 'X_train_balanced.npy'))\n",
        "y_train = np.load(os.path.join(save_path, 'y_train_balanced.npy'))\n",
        "y_test = np.load(os.path.join(save_path, 'y_test_balanced.npy'))"
      ]
    },
    {
      "cell_type": "code",
      "source": [
        "X_train.shape"
      ],
      "metadata": {
        "colab": {
          "base_uri": "https://localhost:8080/"
        },
        "id": "s8nFv-h79jmg",
        "outputId": "a492f332-c3e9-4292-e5a2-941c2537b920"
      },
      "execution_count": null,
      "outputs": [
        {
          "output_type": "execute_result",
          "data": {
            "text/plain": [
              "(1362, 3, 3, 21)"
            ]
          },
          "metadata": {},
          "execution_count": 7
        }
      ]
    },
    {
      "cell_type": "code",
      "source": [
        "X_train[:,:,:,[2,5,7,16]].shape"
      ],
      "metadata": {
        "colab": {
          "base_uri": "https://localhost:8080/"
        },
        "id": "MWYBkbk59tWw",
        "outputId": "7e045628-c4cc-4973-82e6-d5e9e8cb4beb"
      },
      "execution_count": null,
      "outputs": [
        {
          "output_type": "execute_result",
          "data": {
            "text/plain": [
              "(1362, 3, 3, 4)"
            ]
          },
          "metadata": {},
          "execution_count": 8
        }
      ]
    },
    {
      "cell_type": "code",
      "source": [
        "y_train.shape"
      ],
      "metadata": {
        "colab": {
          "base_uri": "https://localhost:8080/"
        },
        "id": "ZMcbP9_J93Sm",
        "outputId": "e80e8dd6-4798-42ee-bd4d-9737612ba033"
      },
      "execution_count": null,
      "outputs": [
        {
          "output_type": "execute_result",
          "data": {
            "text/plain": [
              "(12256,)"
            ]
          },
          "metadata": {},
          "execution_count": 9
        }
      ]
    },
    {
      "cell_type": "markdown",
      "metadata": {
        "id": "P9DxCvwwIUCp"
      },
      "source": [
        "## Convolutional Neural Networks (CNN)\n",
        "\n",
        "### Introduction to CNNs\n",
        "\n",
        "Convolutional Neural Networks, commonly known as CNNs, are a class of deep neural networks specially designed to process data with grid-like topology, such as images {cite}`Goodfellow-et-al-2016,lecun2015deep`. Originating from the visual cortex's biological processes, CNNs are revolutionising the way we understand and interpret visual data.\n",
        "\n",
        "### Why CNN for Image Data?\n",
        "\n",
        "Traditional neural networks, when used for images, suffer from two main issues:\n",
        "\n",
        "- **Too many parameters**: For a simple 256x256 colored image, an input layer would have \\(256 * 256 * 3 = 196,608\\) neurons, leading to an enormous number of parameters even in the first hidden layer.\n",
        "- **Loss of spatial information**: Flattening an image into a vector for traditional neural networks can lose the spatial hierarchies and patterns in the image, which are often crucial for understanding and interpreting visual data.\n",
        "\n",
        "CNNs address both issues by introducing convolutions.\n",
        "\n",
        "### Key Components of CNN\n",
        "\n",
        "1. **Convolutional Layer** {cite}`lecun2015deep`: This is the core building block of a CNN. It slides a filter (smaller in size than the input data) over the input data (like an image) to produce a feature map or convolved feature. The primary purpose of a convolution is to extract features from the input data.\n",
        "2. **Pooling Layer**: Pooling layers are used to reduce the dimensions of the feature maps, thereby reducing the number of parameters and computation in the network. The most common type of pooling is max pooling.\n",
        "3. **Fully Connected Layer**: After several convolutional and pooling layers, the final classification is done using one or more fully connected layers. Neurons in a fully connected layer have connections to all activations in the previous layer, as seen in regular neural networks.\n",
        "4. **Activation Functions**: Non-linearity is introduced into the CNN using activation functions. The Rectified Linear Unit (ReLU) is the most commonly used activation function in CNNs.\n",
        "\n",
        "### How CNNs Learn Spatial Hierarchies\n",
        "\n",
        "CNNs learn spatial hierarchies automatically. The initial layers might learn to detect edges, the next layers learn to detect shapes by combining edges, further layers might detect more complex structures. This ability to learn spatial hierarchies from raw data gives CNNs their power. It allows them to detect complex objects in images by combining simpler features from the earlier layers.\n",
        "\n",
        "### Advantages of CNNs\n",
        "\n",
        "- **Parameter Sharing**: A feature detector (filter) that's useful in one part of the image can be useful in another part of the image {cite}`krizhevsky2012imagenet`.\n",
        "- **Sparsity of Connections**: In each layer, each output value depends only on a small number of input values, making the computation more efficient.\n",
        "\n",
        "### Basic Code Implementation\n",
        "\n",
        "Below, you'll find a basic Convolutional Neural Network (CNN) structure implemented in TensorFlow. Treat this as a foundational blueprint for your subsequent implementations.\n",
        "\n"
      ]
    },
    {
      "cell_type": "code",
      "execution_count": null,
      "metadata": {
        "colab": {
          "base_uri": "https://localhost:8080/"
        },
        "id": "E6ovIjRxmvMy",
        "outputId": "c34677bf-4ede-4bf0-e328-34f52f6da9c2"
      },
      "outputs": [
        {
          "output_type": "stream",
          "name": "stdout",
          "text": [
            "Epoch 1/10\n",
            "39/39 [==============================] - 4s 14ms/step - loss: 1.4212 - accuracy: 0.6604 - val_loss: 0.7412 - val_accuracy: 0.7080\n",
            "Epoch 2/10\n",
            "39/39 [==============================] - 0s 4ms/step - loss: 0.6834 - accuracy: 0.6849 - val_loss: 0.6140 - val_accuracy: 0.7080\n",
            "Epoch 3/10\n",
            "39/39 [==============================] - 0s 9ms/step - loss: 0.6359 - accuracy: 0.6849 - val_loss: 0.6073 - val_accuracy: 0.7080\n",
            "Epoch 4/10\n",
            "39/39 [==============================] - 0s 4ms/step - loss: 0.6344 - accuracy: 0.6849 - val_loss: 0.6045 - val_accuracy: 0.7080\n",
            "Epoch 5/10\n",
            "39/39 [==============================] - 0s 4ms/step - loss: 0.6375 - accuracy: 0.6849 - val_loss: 0.6007 - val_accuracy: 0.7080\n",
            "Epoch 6/10\n",
            "39/39 [==============================] - 0s 4ms/step - loss: 0.6319 - accuracy: 0.6849 - val_loss: 0.6070 - val_accuracy: 0.7080\n",
            "Epoch 7/10\n",
            "39/39 [==============================] - 0s 5ms/step - loss: 0.6297 - accuracy: 0.6849 - val_loss: 0.5997 - val_accuracy: 0.7080\n",
            "Epoch 8/10\n",
            "39/39 [==============================] - 0s 5ms/step - loss: 0.6333 - accuracy: 0.6849 - val_loss: 0.6014 - val_accuracy: 0.7080\n",
            "Epoch 9/10\n",
            "39/39 [==============================] - 0s 5ms/step - loss: 0.6343 - accuracy: 0.6849 - val_loss: 0.6017 - val_accuracy: 0.7080\n",
            "Epoch 10/10\n",
            "39/39 [==============================] - 0s 4ms/step - loss: 0.6297 - accuracy: 0.6849 - val_loss: 0.6092 - val_accuracy: 0.7080\n"
          ]
        },
        {
          "output_type": "execute_result",
          "data": {
            "text/plain": [
              "<keras.src.callbacks.History at 0x7ce93477a4d0>"
            ]
          },
          "metadata": {},
          "execution_count": 10
        }
      ],
      "source": [
        "import tensorflow as tf\n",
        "from tensorflow.keras import layers, models\n",
        "\n",
        "# Define the model\n",
        "model = models.Sequential()\n",
        "model.add(layers.Conv2D(32, (3, 3), activation='relu', input_shape=(3, 3, 4), padding='SAME'))\n",
        "model.add(layers.MaxPooling2D((2, 2)))\n",
        "# Add additional convolutional and pooling layers as needed\n",
        "# ...\n",
        "\n",
        "# Add dense layers for classification\n",
        "model.add(layers.Flatten())\n",
        "model.add(layers.Dense(64, activation='relu'))\n",
        "model.add(layers.Dense(10, activation='softmax'))  # 10 is the number of classes\n",
        "\n",
        "# Compile and train the model\n",
        "model.compile(optimizer='adam',\n",
        "              loss='sparse_categorical_crossentropy',\n",
        "              metrics=['accuracy'])\n",
        "model.fit(X_train[:,:,:,[2,5,7,16]], y_train, epochs=10, validation_split=0.1)"
      ]
    },
    {
      "cell_type": "code",
      "source": [
        "model.save('/content/drive/MyDrive/GEOL0069/Week_2/Model_CNN/')"
      ],
      "metadata": {
        "id": "pBWg-ShKC4u-"
      },
      "execution_count": null,
      "outputs": []
    },
    {
      "cell_type": "markdown",
      "metadata": {
        "id": "N5UdQIRSz9n3"
      },
      "source": [
        "## Random Forests\n",
        "\n",
        "Random Forest is a notable and significant part of machine learning and is commonly used for classification. It can also be used for regression, but its application in classification is more prevalent. Decision Trees are the core components of a Random Forest, so let's delve into the concepts of Decision Trees {cite}`breiman2001random,quinlan1986induction`.\n",
        "\n",
        "### Theoretical Foundations\n",
        "\n",
        "### 1. **Ensemble Learning**\n",
        "\n",
        "Ensemble methods employ multiple learning algorithms to achieve better predictive performance than any individual learning algorithm alone {cite}`dietterich2000ensemble`. The primary principle behind ensemble models is that several weak learners come together to form a strong learner.\n",
        "\n",
        "### 2. **Decision Trees**\n",
        "\n",
        "Decision trees are central to a Random Forest. They split data into subsets based on feature values, recursively producing a decision tree {cite}`quinlan1986induction`.\n",
        "\n",
        "### 3. **Bootstrap Aggregating (Bagging)**\n",
        "\n",
        "Random Forests leverage bagging, where multiple dataset subsets are created by drawing samples with replacement. A separate decision tree is built for each of these samples {cite}`breiman1996bagging`.\n",
        "\n",
        "### 4. **Feature Randomness**\n",
        "\n",
        "In conventional decision trees, the best feature is chosen to split data at every node. However, Random Forests introduce randomness by selecting a random set of features, then choosing the best split from this subset, ensuring a diverse ensemble of trees.\n",
        "\n",
        "\n",
        "### Advantages\n",
        "\n",
        "- **Generalisation**: By combining the predictions of multiple trees, Random Forests tend to generalize better and are less susceptible to overfitting on training data.\n",
        "  \n",
        "- **Parallel Processing**: Each decision tree can be built independently, allowing for parallel processing which speeds up the algorithm considerably for large datasets.\n",
        "\n",
        "- **Handling Missing Values**: Random Forests can handle missing values and still produce reasonable predictions.\n",
        "\n",
        "- **Importance Scoring**: They provide an importance score for each feature, aiding in feature selection or interpretability.\n",
        "\n",
        "### Implementation in Python (Using Scikit-learn)\n",
        "\n"
      ]
    },
    {
      "cell_type": "code",
      "execution_count": null,
      "metadata": {
        "id": "IHPPt3PDysZS",
        "colab": {
          "base_uri": "https://localhost:8080/",
          "height": 356
        },
        "outputId": "b3326e18-5894-4780-edb8-c3f40e1a73d8"
      },
      "outputs": [
        {
          "output_type": "error",
          "ename": "ValueError",
          "evalue": "Found input variables with inconsistent numbers of samples: [1362, 12256]",
          "traceback": [
            "\u001b[0;31m---------------------------------------------------------------------------\u001b[0m",
            "\u001b[0;31mValueError\u001b[0m                                Traceback (most recent call last)",
            "\u001b[0;32m<ipython-input-24-d44e22ea5f41>\u001b[0m in \u001b[0;36m<cell line: 9>\u001b[0;34m()\u001b[0m\n\u001b[1;32m      7\u001b[0m \u001b[0mX_reshaped\u001b[0m \u001b[0;34m=\u001b[0m \u001b[0mnp\u001b[0m\u001b[0;34m.\u001b[0m\u001b[0mreshape\u001b[0m\u001b[0;34m(\u001b[0m\u001b[0mX_train\u001b[0m\u001b[0;34m,\u001b[0m \u001b[0;34m(\u001b[0m\u001b[0mX_train\u001b[0m\u001b[0;34m.\u001b[0m\u001b[0mshape\u001b[0m\u001b[0;34m[\u001b[0m\u001b[0;36m0\u001b[0m\u001b[0;34m]\u001b[0m\u001b[0;34m,\u001b[0m \u001b[0;34m-\u001b[0m\u001b[0;36m1\u001b[0m\u001b[0;34m)\u001b[0m\u001b[0;34m)\u001b[0m\u001b[0;34m\u001b[0m\u001b[0;34m\u001b[0m\u001b[0m\n\u001b[1;32m      8\u001b[0m \u001b[0;31m# Fit the model to your training data\u001b[0m\u001b[0;34m\u001b[0m\u001b[0;34m\u001b[0m\u001b[0m\n\u001b[0;32m----> 9\u001b[0;31m \u001b[0mclf\u001b[0m\u001b[0;34m.\u001b[0m\u001b[0mfit\u001b[0m\u001b[0;34m(\u001b[0m\u001b[0mX_reshaped\u001b[0m\u001b[0;34m,\u001b[0m \u001b[0my_train\u001b[0m\u001b[0;34m)\u001b[0m\u001b[0;34m\u001b[0m\u001b[0;34m\u001b[0m\u001b[0m\n\u001b[0m\u001b[1;32m     10\u001b[0m \u001b[0;34m\u001b[0m\u001b[0m\n\u001b[1;32m     11\u001b[0m \u001b[0;31m# Predict the classes of the test data\u001b[0m\u001b[0;34m\u001b[0m\u001b[0;34m\u001b[0m\u001b[0m\n",
            "\u001b[0;32m/usr/local/lib/python3.10/dist-packages/sklearn/ensemble/_forest.py\u001b[0m in \u001b[0;36mfit\u001b[0;34m(self, X, y, sample_weight)\u001b[0m\n\u001b[1;32m    343\u001b[0m         \u001b[0;32mif\u001b[0m \u001b[0missparse\u001b[0m\u001b[0;34m(\u001b[0m\u001b[0my\u001b[0m\u001b[0;34m)\u001b[0m\u001b[0;34m:\u001b[0m\u001b[0;34m\u001b[0m\u001b[0;34m\u001b[0m\u001b[0m\n\u001b[1;32m    344\u001b[0m             \u001b[0;32mraise\u001b[0m \u001b[0mValueError\u001b[0m\u001b[0;34m(\u001b[0m\u001b[0;34m\"sparse multilabel-indicator for y is not supported.\"\u001b[0m\u001b[0;34m)\u001b[0m\u001b[0;34m\u001b[0m\u001b[0;34m\u001b[0m\u001b[0m\n\u001b[0;32m--> 345\u001b[0;31m         X, y = self._validate_data(\n\u001b[0m\u001b[1;32m    346\u001b[0m             \u001b[0mX\u001b[0m\u001b[0;34m,\u001b[0m \u001b[0my\u001b[0m\u001b[0;34m,\u001b[0m \u001b[0mmulti_output\u001b[0m\u001b[0;34m=\u001b[0m\u001b[0;32mTrue\u001b[0m\u001b[0;34m,\u001b[0m \u001b[0maccept_sparse\u001b[0m\u001b[0;34m=\u001b[0m\u001b[0;34m\"csc\"\u001b[0m\u001b[0;34m,\u001b[0m \u001b[0mdtype\u001b[0m\u001b[0;34m=\u001b[0m\u001b[0mDTYPE\u001b[0m\u001b[0;34m\u001b[0m\u001b[0;34m\u001b[0m\u001b[0m\n\u001b[1;32m    347\u001b[0m         )\n",
            "\u001b[0;32m/usr/local/lib/python3.10/dist-packages/sklearn/base.py\u001b[0m in \u001b[0;36m_validate_data\u001b[0;34m(self, X, y, reset, validate_separately, **check_params)\u001b[0m\n\u001b[1;32m    582\u001b[0m                 \u001b[0my\u001b[0m \u001b[0;34m=\u001b[0m \u001b[0mcheck_array\u001b[0m\u001b[0;34m(\u001b[0m\u001b[0my\u001b[0m\u001b[0;34m,\u001b[0m \u001b[0minput_name\u001b[0m\u001b[0;34m=\u001b[0m\u001b[0;34m\"y\"\u001b[0m\u001b[0;34m,\u001b[0m \u001b[0;34m**\u001b[0m\u001b[0mcheck_y_params\u001b[0m\u001b[0;34m)\u001b[0m\u001b[0;34m\u001b[0m\u001b[0;34m\u001b[0m\u001b[0m\n\u001b[1;32m    583\u001b[0m             \u001b[0;32melse\u001b[0m\u001b[0;34m:\u001b[0m\u001b[0;34m\u001b[0m\u001b[0;34m\u001b[0m\u001b[0m\n\u001b[0;32m--> 584\u001b[0;31m                 \u001b[0mX\u001b[0m\u001b[0;34m,\u001b[0m \u001b[0my\u001b[0m \u001b[0;34m=\u001b[0m \u001b[0mcheck_X_y\u001b[0m\u001b[0;34m(\u001b[0m\u001b[0mX\u001b[0m\u001b[0;34m,\u001b[0m \u001b[0my\u001b[0m\u001b[0;34m,\u001b[0m \u001b[0;34m**\u001b[0m\u001b[0mcheck_params\u001b[0m\u001b[0;34m)\u001b[0m\u001b[0;34m\u001b[0m\u001b[0;34m\u001b[0m\u001b[0m\n\u001b[0m\u001b[1;32m    585\u001b[0m             \u001b[0mout\u001b[0m \u001b[0;34m=\u001b[0m \u001b[0mX\u001b[0m\u001b[0;34m,\u001b[0m \u001b[0my\u001b[0m\u001b[0;34m\u001b[0m\u001b[0;34m\u001b[0m\u001b[0m\n\u001b[1;32m    586\u001b[0m \u001b[0;34m\u001b[0m\u001b[0m\n",
            "\u001b[0;32m/usr/local/lib/python3.10/dist-packages/sklearn/utils/validation.py\u001b[0m in \u001b[0;36mcheck_X_y\u001b[0;34m(X, y, accept_sparse, accept_large_sparse, dtype, order, copy, force_all_finite, ensure_2d, allow_nd, multi_output, ensure_min_samples, ensure_min_features, y_numeric, estimator)\u001b[0m\n\u001b[1;32m   1122\u001b[0m     \u001b[0my\u001b[0m \u001b[0;34m=\u001b[0m \u001b[0m_check_y\u001b[0m\u001b[0;34m(\u001b[0m\u001b[0my\u001b[0m\u001b[0;34m,\u001b[0m \u001b[0mmulti_output\u001b[0m\u001b[0;34m=\u001b[0m\u001b[0mmulti_output\u001b[0m\u001b[0;34m,\u001b[0m \u001b[0my_numeric\u001b[0m\u001b[0;34m=\u001b[0m\u001b[0my_numeric\u001b[0m\u001b[0;34m,\u001b[0m \u001b[0mestimator\u001b[0m\u001b[0;34m=\u001b[0m\u001b[0mestimator\u001b[0m\u001b[0;34m)\u001b[0m\u001b[0;34m\u001b[0m\u001b[0;34m\u001b[0m\u001b[0m\n\u001b[1;32m   1123\u001b[0m \u001b[0;34m\u001b[0m\u001b[0m\n\u001b[0;32m-> 1124\u001b[0;31m     \u001b[0mcheck_consistent_length\u001b[0m\u001b[0;34m(\u001b[0m\u001b[0mX\u001b[0m\u001b[0;34m,\u001b[0m \u001b[0my\u001b[0m\u001b[0;34m)\u001b[0m\u001b[0;34m\u001b[0m\u001b[0;34m\u001b[0m\u001b[0m\n\u001b[0m\u001b[1;32m   1125\u001b[0m \u001b[0;34m\u001b[0m\u001b[0m\n\u001b[1;32m   1126\u001b[0m     \u001b[0;32mreturn\u001b[0m \u001b[0mX\u001b[0m\u001b[0;34m,\u001b[0m \u001b[0my\u001b[0m\u001b[0;34m\u001b[0m\u001b[0;34m\u001b[0m\u001b[0m\n",
            "\u001b[0;32m/usr/local/lib/python3.10/dist-packages/sklearn/utils/validation.py\u001b[0m in \u001b[0;36mcheck_consistent_length\u001b[0;34m(*arrays)\u001b[0m\n\u001b[1;32m    395\u001b[0m     \u001b[0muniques\u001b[0m \u001b[0;34m=\u001b[0m \u001b[0mnp\u001b[0m\u001b[0;34m.\u001b[0m\u001b[0munique\u001b[0m\u001b[0;34m(\u001b[0m\u001b[0mlengths\u001b[0m\u001b[0;34m)\u001b[0m\u001b[0;34m\u001b[0m\u001b[0;34m\u001b[0m\u001b[0m\n\u001b[1;32m    396\u001b[0m     \u001b[0;32mif\u001b[0m \u001b[0mlen\u001b[0m\u001b[0;34m(\u001b[0m\u001b[0muniques\u001b[0m\u001b[0;34m)\u001b[0m \u001b[0;34m>\u001b[0m \u001b[0;36m1\u001b[0m\u001b[0;34m:\u001b[0m\u001b[0;34m\u001b[0m\u001b[0;34m\u001b[0m\u001b[0m\n\u001b[0;32m--> 397\u001b[0;31m         raise ValueError(\n\u001b[0m\u001b[1;32m    398\u001b[0m             \u001b[0;34m\"Found input variables with inconsistent numbers of samples: %r\"\u001b[0m\u001b[0;34m\u001b[0m\u001b[0;34m\u001b[0m\u001b[0m\n\u001b[1;32m    399\u001b[0m             \u001b[0;34m%\u001b[0m \u001b[0;34m[\u001b[0m\u001b[0mint\u001b[0m\u001b[0;34m(\u001b[0m\u001b[0ml\u001b[0m\u001b[0;34m)\u001b[0m \u001b[0;32mfor\u001b[0m \u001b[0ml\u001b[0m \u001b[0;32min\u001b[0m \u001b[0mlengths\u001b[0m\u001b[0;34m]\u001b[0m\u001b[0;34m\u001b[0m\u001b[0;34m\u001b[0m\u001b[0m\n",
            "\u001b[0;31mValueError\u001b[0m: Found input variables with inconsistent numbers of samples: [1362, 12256]"
          ]
        }
      ],
      "source": [
        "from sklearn.ensemble import RandomForestClassifier\n",
        "\n",
        "# Initialise the model with n_estimators specifying the number of trees in the forest\n",
        "clf = RandomForestClassifier(n_estimators=100)\n",
        "\n",
        "# We need to reshape the data in order to be compatible with Random Forest\n",
        "X_reshaped = np.reshape(X_train, (X_train.shape[0], -1))\n",
        "# Fit the model to your training data\n",
        "clf.fit(X_reshaped, y_train)\n",
        "\n",
        "# Predict the classes of the test data\n",
        "X_test_reshaped = np.reshape(X_test, (X_test.shape[0], -1))\n",
        "y_pred = clf.predict(X_test_reshaped)"
      ]
    },
    {
      "cell_type": "markdown",
      "metadata": {
        "id": "19rlMqePQFLu"
      },
      "source": [
        "## Vision Transformer (ViT)\n",
        "\n",
        "Vision Transformers (ViTs) are a recent breakthrough in the field of deep learning for image processing. They depart from the traditional convolutional neural network (CNN) approach and apply transformers, which were originally designed for natural language processing tasks, to image classification.\n",
        "\n",
        "### Theoretical Foundations\n",
        "\n",
        "### 1. **Tokenisation of Images**\n",
        "\n",
        "Instead of processing images using convolutions, ViTs divide the image into fixed-size patches, linearly embed them, and then process the resulting sequence of vectors (or tokens) using a transformer.{cite}`dosovitskiy2020image`\n",
        "\n",
        "### 2. **Position Embeddings**\n",
        "\n",
        "Since the original transformer doesn't have a notion of the relative positions of tokens, positional embeddings are added to the patch embeddings to retain the positional information.{cite}`dosovitskiy2020image`\n",
        "\n",
        "### 3. **Transformer Architecture**\n",
        "\n",
        "The core of ViT is the transformer architecture, which consists of multiple layers of multi-head self-attention mechanisms and feed-forward neural networks.{cite}`dosovitskiy2020image`\n",
        "\n",
        "### 4. **Classification Head**\n",
        "\n",
        "After processing through the transformer layers, the embedding of the first token (often referred to as the 'CLS' token) is used to classify the image.{cite}`dosovitskiy2020image`\n",
        "\n",
        "### Advantages of ViT\n",
        "\n",
        "- **Model Transferability**: ViTs pre-trained on large datasets can be fine-tuned on smaller datasets, achieving high performance even when the available labeled data is limited.\n",
        "\n",
        "- **Scalability**: ViTs are more data-hungry compared to CNNs. However, their performance continues to improve as the model size and the amount of data increase, often surpassing other architectures.\n",
        "\n",
        "- **Flexibility**: The transformer architecture isn't specialized for grid-like data (like images), making ViTs potentially more flexible for varied input data types.\n",
        "\n",
        "### Challenges\n",
        "\n",
        "- **Computational Demand**: ViTs can be computationally intensive, especially when dealing with large images or when the model has many layers.\n",
        "\n",
        "- **Data Requirement**: To achieve optimal performance, ViTs often require more training data compared to CNNs.\n",
        "\n",
        "### Implementation\n",
        "The implmentation of Vision Transformer is much more complicated than CNN and Random Forest as there is no built-in functions or layers in the library. However, the following code uses some existing functions like Muliti-head attention to build the transformer block. You don't need to know the exactly and detailed structure of ViT as it is not required in this course. Please follow the code below for example of implementation."
      ]
    },
    {
      "cell_type": "code",
      "execution_count": null,
      "metadata": {
        "id": "W5n6OIjeQKTq",
        "colab": {
          "base_uri": "https://localhost:8080/"
        },
        "outputId": "7ed0efa7-5e60-494d-cb47-a7a99c6e9746"
      },
      "outputs": [
        {
          "output_type": "stream",
          "name": "stdout",
          "text": [
            "Requirement already satisfied: tensorflow-addons in /usr/local/lib/python3.10/dist-packages (0.23.0)\n",
            "Requirement already satisfied: packaging in /usr/local/lib/python3.10/dist-packages (from tensorflow-addons) (23.2)\n",
            "Requirement already satisfied: typeguard<3.0.0,>=2.7 in /usr/local/lib/python3.10/dist-packages (from tensorflow-addons) (2.13.3)\n"
          ]
        }
      ],
      "source": [
        "# Install this additional Tensorflow package for ViT\n",
        "! pip install -U tensorflow-addons"
      ]
    },
    {
      "cell_type": "code",
      "execution_count": null,
      "metadata": {
        "id": "E4dDNKfHwF4t"
      },
      "outputs": [],
      "source": [
        "# Install packages needed\n",
        "import numpy as np\n",
        "import tensorflow as tf\n",
        "from tensorflow import keras\n",
        "from tensorflow.keras import layers\n",
        "import tensorflow_addons as tfa\n",
        "from sklearn.ensemble import RandomForestClassifier\n",
        "from sklearn.metrics import accuracy_score,confusion_matrix,classification_report"
      ]
    },
    {
      "cell_type": "code",
      "execution_count": null,
      "metadata": {
        "id": "I7yFFC8HwF4t"
      },
      "outputs": [],
      "source": [
        "#=========================================================================================================\n",
        "#=========================================================================================================\n",
        "#=========================================================================================================\n",
        "\n",
        "def mlp(x, hidden_units, dropout_rate):\n",
        "    for units in hidden_units:\n",
        "        x = layers.Dense(units, activation=tf.nn.gelu)(x)\n",
        "        x = layers.Dropout(dropout_rate)(x)\n",
        "    return x\n",
        "class Patches(layers.Layer):\n",
        "    def __init__(self, patch_size):\n",
        "        super(Patches, self).__init__()\n",
        "        self.patch_size = patch_size\n",
        "\n",
        "    def call(self, images):\n",
        "        batch_size = tf.shape(images)[0]\n",
        "        patches = tf.image.extract_patches(\n",
        "            images=images,\n",
        "            sizes=[1, self.patch_size, self.patch_size, 1],\n",
        "            strides=[1, self.patch_size, self.patch_size, 1],\n",
        "            rates=[1, 1, 1, 1],\n",
        "            padding=\"VALID\",\n",
        "        )\n",
        "        patch_dims = patches.shape[-1]\n",
        "        patches = tf.reshape(patches, [batch_size, -1, patch_dims])\n",
        "        return patches\n",
        "#=========================================================================================================\n",
        "#=========================================================================================================\n",
        "#=========================================================================================================\n",
        "class PatchEncoder(layers.Layer):\n",
        "    def __init__(self, num_patches, projection_dim):\n",
        "        super(PatchEncoder, self).__init__()\n",
        "        self.num_patches = num_patches\n",
        "        self.projection = layers.Dense(units=projection_dim)\n",
        "        self.position_embedding = layers.Embedding(\n",
        "            input_dim=num_patches, output_dim=projection_dim\n",
        "        )\n",
        "\n",
        "    def call(self, patch):\n",
        "        positions = tf.range(start=0, limit=self.num_patches, delta=1)\n",
        "        encoded = self.projection(patch) + self.position_embedding(positions)\n",
        "        return encoded\n",
        "\n",
        "#=========================================================================================================\n",
        "#=========================================================================================================\n",
        "#=========================================================================================================\n",
        "def create_vit_classifier():\n",
        "    inputs = layers.Input(shape=input_shape)\n",
        "    # Augment data.\n",
        "    augmented = more_data(inputs)\n",
        "    # Create patches.\n",
        "    patches = Patches(patch_size)(augmented)\n",
        "    # Encode patches.\n",
        "    encoded_patches = PatchEncoder(num_patches, projection_dim)(patches)\n",
        "\n",
        "    # Create multiple layers of the Transformer block.\n",
        "    for _ in range(transformer_layers):\n",
        "        # Layer normalization 1.\n",
        "        x1 = layers.LayerNormalization(epsilon=1e-6)(encoded_patches)\n",
        "        # Create a multi-head attention layer.\n",
        "        attention_output = layers.MultiHeadAttention(\n",
        "            num_heads=num_heads, key_dim=projection_dim, dropout=0.1\n",
        "        )(x1, x1)\n",
        "        # Skip connection 1.\n",
        "        x2 = layers.Add()([attention_output, encoded_patches])\n",
        "        # Layer normalization 2.\n",
        "        x3 = layers.LayerNormalization(epsilon=1e-6)(x2)\n",
        "        # MLP.\n",
        "        x3 = mlp(x3, hidden_units=transformer_units, dropout_rate=0.1)\n",
        "        # Skip connection 2.\n",
        "        encoded_patches = layers.Add()([x3, x2])\n",
        "\n",
        "    # Create a [batch_size, projection_dim] tensor.\n",
        "    representation = layers.LayerNormalization(epsilon=1e-6)(encoded_patches)\n",
        "    representation = layers.Flatten()(representation)\n",
        "    representation = layers.Dropout(0.5)(representation)\n",
        "    # Add MLP.\n",
        "    features = mlp(representation, hidden_units=mlp_head_units, dropout_rate=0.5)\n",
        "    # Classify outputs.\n",
        "    logits = layers.Dense(num_classes)(features)\n",
        "    # Create the Keras model.\n",
        "    model = keras.Model(inputs=inputs, outputs=logits)\n",
        "    return model\n",
        "#=========================================================================================================\n",
        "#=========================================================================================================\n",
        "#=========================================================================================================\n",
        "def run_experiment(model):\n",
        "    optimizer = tfa.optimizers.AdamW(\n",
        "        learning_rate=learning_rate, weight_decay=weight_decay\n",
        "    )\n",
        "\n",
        "    model.compile(\n",
        "        optimizer=optimizer,\n",
        "        loss=keras.losses.SparseCategoricalCrossentropy(from_logits=True),\n",
        "        metrics=[\n",
        "            keras.metrics.SparseCategoricalAccuracy(name=\"accuracy\"),\n",
        "            keras.metrics.SparseTopKCategoricalAccuracy(5, name=\"top-5-accuracy\"),\n",
        "        ],\n",
        "    )\n",
        "\n",
        "    checkpoint_filepath = \"/tmp/checkpoint\"\n",
        "    checkpoint_callback = keras.callbacks.ModelCheckpoint(\n",
        "        checkpoint_filepath,\n",
        "        monitor=\"val_accuracy\",\n",
        "        save_best_only=True,\n",
        "        save_weights_only=True,\n",
        "    )\n",
        "\n",
        "    history = model.fit(\n",
        "        x=X_train,\n",
        "        y=y_train,\n",
        "        batch_size=30,\n",
        "        epochs=20,\n",
        "        validation_split=0.1,\n",
        "        callbacks=[checkpoint_callback],\n",
        "    )\n",
        "\n",
        "    model.load_weights(checkpoint_filepath)\n",
        "    _, accuracy, top_5_accuracy = model.evaluate(X_test, y_test)\n",
        "    print(f\"Test accuracy: {round(accuracy * 100, 2)}%\")\n",
        "    print(f\"Test top 5 accuracy: {round(top_5_accuracy * 100, 2)}%\")\n",
        "\n",
        "    return history"
      ]
    },
    {
      "cell_type": "code",
      "execution_count": null,
      "metadata": {
        "id": "dt7nBLb8wF4u"
      },
      "outputs": [],
      "source": [
        "num_classes = 2 #Can be changed to multi-classed classification\n",
        "input_shape = (3, 3, 21)#depends on the size of the image we want\n",
        "\n",
        "learning_rate = 0.001\n",
        "weight_decay = 0.0001\n",
        "batch_size = 256\n",
        "num_epochs = 100\n",
        "image_size = 72\n",
        "patch_size = 6\n",
        "num_patches = (image_size // patch_size) ** 2\n",
        "projection_dim = 64\n",
        "num_heads = 4\n",
        "transformer_units = [\n",
        "    projection_dim * 2,\n",
        "    projection_dim,\n",
        "]\n",
        "transformer_layers = 8\n",
        "mlp_head_units = [2048, 1024]"
      ]
    },
    {
      "cell_type": "code",
      "execution_count": null,
      "metadata": {
        "id": "Y6Mx50rnwF4u"
      },
      "outputs": [],
      "source": [
        "# Data augmentation\n",
        "more_data = keras.Sequential(\n",
        "    [\n",
        "        layers.Normalization(),\n",
        "        layers.Resizing(image_size, image_size),\n",
        "        layers.RandomFlip(\"horizontal\"),\n",
        "        layers.RandomRotation(factor=0.02),\n",
        "        layers.RandomZoom(\n",
        "            height_factor=0.2, width_factor=0.2\n",
        "        ),\n",
        "    ],\n",
        "    name=\"more_data\",\n",
        ")\n",
        "more_data.layers[0].adapt(X_train)"
      ]
    },
    {
      "cell_type": "code",
      "execution_count": null,
      "metadata": {
        "colab": {
          "base_uri": "https://localhost:8080/"
        },
        "id": "MPMJl3ZfwF4v",
        "outputId": "c72c4b27-f37e-4a6f-dfb1-619d3854b67f"
      },
      "outputs": [
        {
          "output_type": "stream",
          "name": "stdout",
          "text": [
            "Epoch 1/20\n",
            "508/508 [==============================] - 55s 81ms/step - loss: 0.5272 - accuracy: 0.8996 - top-5-accuracy: 1.0000 - val_loss: 0.1659 - val_accuracy: 0.9362 - val_top-5-accuracy: 1.0000\n",
            "Epoch 2/20\n",
            "508/508 [==============================] - 33s 65ms/step - loss: 0.2005 - accuracy: 0.9279 - top-5-accuracy: 1.0000 - val_loss: 0.1728 - val_accuracy: 0.9326 - val_top-5-accuracy: 1.0000\n",
            "Epoch 3/20\n",
            "508/508 [==============================] - 35s 69ms/step - loss: 0.1812 - accuracy: 0.9340 - top-5-accuracy: 1.0000 - val_loss: 0.1443 - val_accuracy: 0.9462 - val_top-5-accuracy: 1.0000\n",
            "Epoch 4/20\n",
            "508/508 [==============================] - 34s 66ms/step - loss: 0.1809 - accuracy: 0.9341 - top-5-accuracy: 1.0000 - val_loss: 0.1840 - val_accuracy: 0.9291 - val_top-5-accuracy: 1.0000\n",
            "Epoch 5/20\n",
            "508/508 [==============================] - 34s 67ms/step - loss: 0.1722 - accuracy: 0.9371 - top-5-accuracy: 1.0000 - val_loss: 0.1328 - val_accuracy: 0.9456 - val_top-5-accuracy: 1.0000\n",
            "Epoch 6/20\n",
            "508/508 [==============================] - 34s 67ms/step - loss: 0.1681 - accuracy: 0.9404 - top-5-accuracy: 1.0000 - val_loss: 0.1390 - val_accuracy: 0.9397 - val_top-5-accuracy: 1.0000\n",
            "Epoch 7/20\n",
            "508/508 [==============================] - 35s 68ms/step - loss: 0.1605 - accuracy: 0.9414 - top-5-accuracy: 1.0000 - val_loss: 0.1644 - val_accuracy: 0.9486 - val_top-5-accuracy: 1.0000\n",
            "Epoch 8/20\n",
            "508/508 [==============================] - 34s 67ms/step - loss: 0.1699 - accuracy: 0.9357 - top-5-accuracy: 1.0000 - val_loss: 0.1786 - val_accuracy: 0.9415 - val_top-5-accuracy: 1.0000\n",
            "Epoch 9/20\n",
            "508/508 [==============================] - 35s 68ms/step - loss: 0.1639 - accuracy: 0.9394 - top-5-accuracy: 1.0000 - val_loss: 0.1259 - val_accuracy: 0.9498 - val_top-5-accuracy: 1.0000\n",
            "Epoch 10/20\n",
            "508/508 [==============================] - 33s 65ms/step - loss: 0.1614 - accuracy: 0.9376 - top-5-accuracy: 1.0000 - val_loss: 0.1362 - val_accuracy: 0.9474 - val_top-5-accuracy: 1.0000\n",
            "Epoch 11/20\n",
            "508/508 [==============================] - 34s 66ms/step - loss: 0.1573 - accuracy: 0.9419 - top-5-accuracy: 1.0000 - val_loss: 0.1594 - val_accuracy: 0.9385 - val_top-5-accuracy: 1.0000\n",
            "Epoch 12/20\n",
            "508/508 [==============================] - 35s 68ms/step - loss: 0.1503 - accuracy: 0.9427 - top-5-accuracy: 1.0000 - val_loss: 0.1335 - val_accuracy: 0.9468 - val_top-5-accuracy: 1.0000\n",
            "Epoch 13/20\n",
            "508/508 [==============================] - 33s 65ms/step - loss: 0.1482 - accuracy: 0.9439 - top-5-accuracy: 1.0000 - val_loss: 0.1407 - val_accuracy: 0.9480 - val_top-5-accuracy: 1.0000\n",
            "Epoch 14/20\n",
            "508/508 [==============================] - 35s 68ms/step - loss: 0.1489 - accuracy: 0.9438 - top-5-accuracy: 1.0000 - val_loss: 0.1160 - val_accuracy: 0.9509 - val_top-5-accuracy: 1.0000\n",
            "Epoch 15/20\n",
            "508/508 [==============================] - 34s 67ms/step - loss: 0.1550 - accuracy: 0.9439 - top-5-accuracy: 1.0000 - val_loss: 0.1686 - val_accuracy: 0.9456 - val_top-5-accuracy: 1.0000\n",
            "Epoch 16/20\n",
            "508/508 [==============================] - 34s 66ms/step - loss: 0.1473 - accuracy: 0.9445 - top-5-accuracy: 1.0000 - val_loss: 0.1468 - val_accuracy: 0.9480 - val_top-5-accuracy: 1.0000\n",
            "Epoch 17/20\n",
            "508/508 [==============================] - 34s 66ms/step - loss: 0.1488 - accuracy: 0.9465 - top-5-accuracy: 1.0000 - val_loss: 0.1417 - val_accuracy: 0.9433 - val_top-5-accuracy: 1.0000\n",
            "Epoch 18/20\n",
            "508/508 [==============================] - 35s 68ms/step - loss: 0.1507 - accuracy: 0.9434 - top-5-accuracy: 1.0000 - val_loss: 0.1337 - val_accuracy: 0.9480 - val_top-5-accuracy: 1.0000\n",
            "Epoch 19/20\n",
            "508/508 [==============================] - 34s 68ms/step - loss: 0.1438 - accuracy: 0.9461 - top-5-accuracy: 1.0000 - val_loss: 0.1202 - val_accuracy: 0.9527 - val_top-5-accuracy: 1.0000\n",
            "Epoch 20/20\n",
            "508/508 [==============================] - 34s 66ms/step - loss: 0.2007 - accuracy: 0.9325 - top-5-accuracy: 1.0000 - val_loss: 0.1427 - val_accuracy: 0.9444 - val_top-5-accuracy: 1.0000\n",
            "59/59 [==============================] - 1s 22ms/step - loss: 0.1177 - accuracy: 0.9548 - top-5-accuracy: 1.0000\n",
            "Test accuracy: 95.48%\n",
            "Test top 5 accuracy: 100.0%\n"
          ]
        }
      ],
      "source": [
        "# Here vit is your trained model after the training\n",
        "vit = create_vit_classifier()\n",
        "history = run_experiment(vit)\n",
        "\n",
        "vit.save('/content/drive/MyDrive/Week2')\n",
        "model = tf.keras.models.load_model('/content/drive/MyDrive/Week2')"
      ]
    },
    {
      "cell_type": "markdown",
      "metadata": {
        "id": "o_dT4T61wF4v"
      },
      "source": [
        "## Model Selection and Cross-validation\n",
        "Cross-validation and model selection are pivotal components in ensuring the robustness of machine learning models. They ensure that our model doesn't just memorise the training data (overfitting) and that it generalises well to new, unseen data. However, they are some small nuances between this procedure in Deep Learning models (like CNN and ViT) and traditional Machine Learning models (Random Forests)\n",
        "\n",
        "### Deep Learning Models:\n",
        "\n",
        "- **Validation During Training**:\n",
        "    - Deep learning models, particularly when trained on large datasets, often incorporate a validation set during the training process. This is done to monitor the model's generalization performance and to use mechanisms like early stopping, learning rate annealing based on validation loss, etc.\n",
        "\n",
        "- **Cross-Validation Less Common**:\n",
        "    - Due to the computational intensity and time required to train deep learning models, k-fold cross-validation is less commonly used. Instead, a single hold-out validation set (or sometimes a few different validation sets) is used.\n",
        "\n",
        "- **Model Selection**:\n",
        "    - While the principles of model selection apply to deep learning, the specific approach might be different. Hyperparameter tuning in deep learning might involve methods like random search, Bayesian optimization, or dedicated libraries like Optuna or Ray Tune, instead of just grid search.\n",
        "\n",
        "### Traditional ML Models:\n",
        "\n",
        "- **Cross-Validation**:\n",
        "    - For many traditional machine learning models, k-fold cross-validation is a standard technique because these models are typically faster to train. Cross-validation gives a more robust estimate of the model's performance.\n",
        "\n",
        "- **Model Selection**:\n",
        "    - Grid search combined with cross-validation (e.g., `GridSearchCV` in scikit-learn) is a common method for hyperparameter tuning and model selection for traditional algorithms.\n",
        "\n",
        "### Overlap & Best Practices:\n",
        "\n",
        "- Despite these general trends, it's worth noting that there's overlap. Deep learning models can also be evaluated using cross-validation if computational resources permit. Similarly, traditional ML models can (and do) use validation sets during training, especially for iterative algorithms like gradient boosting machines.\n",
        "\n",
        "- The choice between using a validation set during training or relying on cross-validation often depends on the dataset's size, computational resources, and specific project requirements.\n",
        "\n",
        "- Actually we have included validation procedure in the building of CNN and ViT. Check for code that contains 'validation or validation split'.\n",
        "\n",
        "\n",
        "### What is Cross-Validation? {cite}`bishop2006pattern`\n",
        "\n",
        "Cross-validation is a technique to evaluate the performance of a model by splitting the dataset into a training set and a validation set multiple times. The most common method is k-fold cross-validation.\n",
        "### K-Fold Cross-Validation {cite}`bishop2006pattern`\n",
        "\n",
        "In k-fold cross-validation, the training data is randomly partitioned into k equal-sized subsets. Of the k subsets, a single subset is retained as validation data, and the remaining k-1 subsets are used as training data. The cross-validation process is repeated k times, with each of the k subsets used exactly once as validation data. The k results can then be averaged to produce a single estimation.\n",
        "\n",
        "The following code is a example of K-Fold CV for Random Forest model:\n"
      ]
    },
    {
      "cell_type": "code",
      "execution_count": null,
      "metadata": {
        "id": "itYHUBIewF4v",
        "colab": {
          "base_uri": "https://localhost:8080/"
        },
        "outputId": "7ea15442-2a6d-4f86-d5e3-e388f974691a"
      },
      "outputs": [
        {
          "output_type": "stream",
          "name": "stdout",
          "text": [
            "Mean cross-validation score:  0.9601466126332081\n"
          ]
        }
      ],
      "source": [
        "from sklearn.model_selection import cross_val_score\n",
        "# Assuming `model` is your sklearn model and `X` and `y` are your data\n",
        "# Perform 5-fold cross-validation\n",
        "scores = cross_val_score(clf, X_reshaped, y_train, cv=5)\n",
        "\n",
        "# Print the mean of the cross-validation scores\n",
        "print(\"Mean cross-validation score: \", scores.mean())"
      ]
    },
    {
      "cell_type": "markdown",
      "metadata": {
        "id": "D6U2iT8GwF4v"
      },
      "source": [
        "## Model Selection\n",
        "\n",
        "Model selection involves choosing the best model from a set of models based on performance. The model with the best cross-validation score is typically selected.\n",
        "\n",
        "### Grid Search\n",
        "\n",
        "A popular technique for model selection is grid search. Grid search involves:\n",
        "\n",
        "- Specifying a subset of the hyperparameter space.\n",
        "- Training a model for each hyperparameter combination.\n",
        "- Evaluating each model using cross-validation.\n",
        "- Selecting the model with the best cross-validation performance.\n"
      ]
    },
    {
      "cell_type": "code",
      "execution_count": null,
      "metadata": {
        "id": "eIjMIuJMwF4w",
        "colab": {
          "base_uri": "https://localhost:8080/",
          "height": 245
        },
        "outputId": "ee050d26-ef95-44a4-f37a-3dbb564498fa"
      },
      "outputs": [
        {
          "output_type": "error",
          "ename": "NameError",
          "evalue": "name 'X' is not defined",
          "traceback": [
            "\u001b[0;31m---------------------------------------------------------------------------\u001b[0m",
            "\u001b[0;31mNameError\u001b[0m                                 Traceback (most recent call last)",
            "\u001b[0;32m<ipython-input-20-a3e1f27f6ea7>\u001b[0m in \u001b[0;36m<cell line: 9>\u001b[0;34m()\u001b[0m\n\u001b[1;32m      7\u001b[0m }\n\u001b[1;32m      8\u001b[0m \u001b[0mgrid_search\u001b[0m \u001b[0;34m=\u001b[0m \u001b[0mGridSearchCV\u001b[0m\u001b[0;34m(\u001b[0m\u001b[0mmodel\u001b[0m\u001b[0;34m,\u001b[0m \u001b[0mparam_grid\u001b[0m\u001b[0;34m,\u001b[0m \u001b[0mcv\u001b[0m\u001b[0;34m=\u001b[0m\u001b[0;36m5\u001b[0m\u001b[0;34m)\u001b[0m\u001b[0;34m\u001b[0m\u001b[0;34m\u001b[0m\u001b[0m\n\u001b[0;32m----> 9\u001b[0;31m \u001b[0mgrid_search\u001b[0m\u001b[0;34m.\u001b[0m\u001b[0mfit\u001b[0m\u001b[0;34m(\u001b[0m\u001b[0mX\u001b[0m\u001b[0;34m,\u001b[0m \u001b[0my\u001b[0m\u001b[0;34m)\u001b[0m\u001b[0;34m\u001b[0m\u001b[0;34m\u001b[0m\u001b[0m\n\u001b[0m\u001b[1;32m     10\u001b[0m \u001b[0;34m\u001b[0m\u001b[0m\n\u001b[1;32m     11\u001b[0m \u001b[0mprint\u001b[0m\u001b[0;34m(\u001b[0m\u001b[0;34m\"Best parameters: \"\u001b[0m\u001b[0;34m,\u001b[0m \u001b[0mgrid_search\u001b[0m\u001b[0;34m.\u001b[0m\u001b[0mbest_params_\u001b[0m\u001b[0;34m)\u001b[0m\u001b[0;34m\u001b[0m\u001b[0;34m\u001b[0m\u001b[0m\n",
            "\u001b[0;31mNameError\u001b[0m: name 'X' is not defined"
          ]
        }
      ],
      "source": [
        "from sklearn.model_selection import GridSearchCV\n",
        "\n",
        "# Example for a hypothetical model's hyperparameters\n",
        "param_grid = {\n",
        "    'n_estimators': [50, 100, 150],\n",
        "    'max_depth': [None, 10, 20, 30]\n",
        "}\n",
        "grid_search = GridSearchCV(model, param_grid, cv=5)\n",
        "grid_search.fit(X, y)\n",
        "\n",
        "print(\"Best parameters: \", grid_search.best_params_)\n",
        "print(\"Best cross-validation score: \", grid_search.best_score_)\n"
      ]
    }
  ],
  "metadata": {
    "colab": {
      "provenance": [],
      "gpuType": "T4",
      "include_colab_link": true
    },
    "kernelspec": {
      "display_name": "Python 3",
      "name": "python3"
    },
    "language_info": {
      "name": "python"
    },
    "accelerator": "GPU"
  },
  "nbformat": 4,
  "nbformat_minor": 0
}